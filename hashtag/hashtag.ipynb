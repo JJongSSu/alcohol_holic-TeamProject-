{
 "cells": [
  {
   "cell_type": "code",
   "execution_count": 1,
   "metadata": {},
   "outputs": [],
   "source": [
    "import pandas as pd\n",
    "import numpy as np"
   ]
  },
  {
   "cell_type": "code",
   "execution_count": 2,
   "metadata": {},
   "outputs": [],
   "source": [
    "def generate_output(self):\n",
    "        \"\"\"\n",
    "        Final output--to be displayed on the app\n",
    "        Columns: documents, top topic, n top words for topic, 2 corresponding sentences per word?\n",
    "        \"\"\"\n",
    "        file_to_tokens = self._get_normalized_corpus(self.files)\n",
    "        all_lemmas = self._get_all_unique_lemmas(file_to_tokens)\n",
    "\n",
    "        doc_topic = self.lda_model.doc_topic_  # document-topic distributions\n",
    "        topic_word = self.lda_model.topic_word_  # topic-word distributions\n",
    "\n",
    "        # Map lemmas to tokens\n",
    "        lemma_to_tokens = self._get_lemma_to_tokens(file_to_tokens)\n",
    "\n",
    "        # Map topic indices to lemmas\n",
    "        topic_lemmas_map = {}\n",
    "        for i, topic_dist in enumerate(topic_word):\n",
    "            top_lemmas = list(np.array(all_lemmas)[np.argsort(topic_dist)][\n",
    "                : -self.n_top_words : -1\n",
    "            ])  # list of top lemmas\n",
    "            top_lemmas_to_tokens = {}\n",
    "            for lemma in top_lemmas:\n",
    "                top_tokens = lemma_to_tokens[lemma]  # Grab all tokens corresponding to that lemma\n",
    "                top_lemmas_to_tokens[lemma] = top_tokens\n",
    "            topic_lemmas_map[i] = top_lemmas_to_tokens\n",
    "\n",
    "        # Final output: a map of doc_names to topic number, lemmas assoc. with that topic\n",
    "        # and the tokens associated with those words\n",
    "        doc_topic_words = {}\n",
    "        for i in range(len(self.files)):\n",
    "            top_topic = doc_topic[i].argmax()\n",
    "            current_file = self.files[i]\n",
    "            doc_topic_words[self.files[i]] = {top_topic: topic_lemmas_map[top_topic]}\n",
    "\n",
    "        self._doc_topic_words = doc_topic_words"
   ]
  },
  {
   "cell_type": "code",
   "execution_count": null,
   "metadata": {},
   "outputs": [],
   "source": []
  }
 ],
 "metadata": {
  "kernelspec": {
   "display_name": "Python 3.8.9 64-bit",
   "language": "python",
   "name": "python3"
  },
  "language_info": {
   "codemirror_mode": {
    "name": "ipython",
    "version": 3
   },
   "file_extension": ".py",
   "mimetype": "text/x-python",
   "name": "python",
   "nbconvert_exporter": "python",
   "pygments_lexer": "ipython3",
   "version": "3.8.9"
  },
  "orig_nbformat": 4,
  "vscode": {
   "interpreter": {
    "hash": "6a926afa313b26ae1264fdcf81c726a97e69f6ba2ba780f6aa901948710f8d6e"
   }
  }
 },
 "nbformat": 4,
 "nbformat_minor": 2
}
