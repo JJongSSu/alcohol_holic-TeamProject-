{
  "cells": [
    {
      "cell_type": "code",
      "execution_count": 1,
      "metadata": {
        "id": "a0luaOJpUoTm"
      },
      "outputs": [],
      "source": [
        "import pandas as pd\n",
        "import numpy as np\n",
        "from modules import *\n",
        "from nltk.corpus import stopwords\n",
        "from nltk.stem.porter import *\n",
        "from nltk import word_tokenize\n",
        "from konlpy.tag import Okt\n",
        "from nltk.util import everygrams"
      ]
    },
    {
      "cell_type": "code",
      "execution_count": 16,
      "metadata": {
        "id": "yKhbWD73UoTp"
      },
      "outputs": [],
      "source": [
        "#원하는 태그 추출 & 불용어 제거\n",
        "okt = Okt()\n",
        "\n",
        "#불용어\n",
        "stopwords = pd.read_csv('ko-stopwords.csv') #한국어불용어사전 불러오기\n",
        "stopwords=list(stopwords['stopwords']) \n",
        "stopwords.extend(['에서','고','이다','는','한','씨', \"것\",\"거\",\"게\",\"데\",\"이다\",\"건\",\"고\",\"되다\",\"되어다\",\"걸\",\"기\",\n",
        "                  \"시\",\"네\",\"듯\",\"랍니\",\"중이\",\"얘\",\"스\",\"도도\", \"나\",\"수\",\"개\",\"내\",\"기\",\"제\",\"저\",\"인\",\"있다\",\"이렇다\",\n",
        "                  \"그렇다\",\"번\",\"위\",\"팅\",\"분\",\"인\",\"링\",\"란\",\"포\",\"두\", \"진짜\", \"하다\" ,\"이다\" ,\"가다\", \"이제\" ,\"들다\",\n",
        "                 '에서','고','이다','젛','뇨','껀데','뭘']) #불용어 추가\n",
        "\n",
        "stopwords=set(stopwords) # 중복제거    \n",
        "\n",
        "# 형태소 분석 함수 만들기\n",
        "def okt_pos_tagging2(string):\n",
        "    pos_words = okt.pos(string, stem=True, norm=True) # 형태소 분석. 단어는 사전형으로 바꿔주기\n",
        "    words = [word for word, tag in pos_words if tag \n",
        "             in ['Noun', 'Adjective', 'Verb','Adverb'] if word not in stopwords ]\n",
        "\n",
        "    # n_gram 만들기\n",
        "    egram = list(everygrams(words, min_len=1, max_len=1))\n",
        "    egram_token = [' '.join(grams) for grams in egram]\n",
        "\n",
        "    return egram_token\n",
        "\n",
        "def okt_pos_tagging(string):\n",
        "    pos_words = okt.pos(string, stem=True, norm=True) # 형태소 분석. 단어는 사전형으로 바꿔주기\n",
        "    words = [word for word, tag in pos_words if tag \n",
        "             in ['Noun', 'Adjective', 'Verb','Adverb'] if word not in stopwords ]\n",
        "\n",
        "    return words\n"
      ]
    },
    {
      "cell_type": "code",
      "execution_count": 17,
      "metadata": {
        "id": "3zDxUf7zUoTp"
      },
      "outputs": [],
      "source": [
        "# 불러올 csv 이름 리스트\n",
        "# 전체 리뷰를 불러온후 tf-idf 분석\n",
        "name_list =[\"술 리뷰(곰표막걸리)\",\"술 리뷰(복순도가)\",\"느린마을 막걸리\",\"술 리뷰(죽향도가)\"]"
      ]
    },
    {
      "cell_type": "code",
      "execution_count": 18,
      "metadata": {
        "id": "_CfJCVGOUoTq"
      },
      "outputs": [
        {
          "name": "stderr",
          "output_type": "stream",
          "text": [
            "C:\\Users\\user\\AppData\\Local\\Temp\\ipykernel_16296\\639027951.py:8: FutureWarning: The default value of regex will change from True to False in a future version.\n",
            "  data.doc = data.doc.str.replace(\"[^가-힣 ]\",\" \") # 한글만 남기고 특수문자, 숫자, 영어 삭제\n",
            "C:\\Users\\user\\AppData\\Local\\Temp\\ipykernel_16296\\639027951.py:9: FutureWarning: The default value of regex will change from True to False in a future version.\n",
            "  data.doc = data.doc.str.replace(\"\\s+\", \" \") # white space 삭제\n",
            "C:\\Users\\user\\AppData\\Local\\Temp\\ipykernel_16296\\639027951.py:8: FutureWarning: The default value of regex will change from True to False in a future version.\n",
            "  data.doc = data.doc.str.replace(\"[^가-힣 ]\",\" \") # 한글만 남기고 특수문자, 숫자, 영어 삭제\n",
            "C:\\Users\\user\\AppData\\Local\\Temp\\ipykernel_16296\\639027951.py:9: FutureWarning: The default value of regex will change from True to False in a future version.\n",
            "  data.doc = data.doc.str.replace(\"\\s+\", \" \") # white space 삭제\n",
            "C:\\Users\\user\\AppData\\Local\\Temp\\ipykernel_16296\\639027951.py:8: FutureWarning: The default value of regex will change from True to False in a future version.\n",
            "  data.doc = data.doc.str.replace(\"[^가-힣 ]\",\" \") # 한글만 남기고 특수문자, 숫자, 영어 삭제\n",
            "C:\\Users\\user\\AppData\\Local\\Temp\\ipykernel_16296\\639027951.py:9: FutureWarning: The default value of regex will change from True to False in a future version.\n",
            "  data.doc = data.doc.str.replace(\"\\s+\", \" \") # white space 삭제\n",
            "C:\\Users\\user\\AppData\\Local\\Temp\\ipykernel_16296\\639027951.py:8: FutureWarning: The default value of regex will change from True to False in a future version.\n",
            "  data.doc = data.doc.str.replace(\"[^가-힣 ]\",\" \") # 한글만 남기고 특수문자, 숫자, 영어 삭제\n",
            "C:\\Users\\user\\AppData\\Local\\Temp\\ipykernel_16296\\639027951.py:9: FutureWarning: The default value of regex will change from True to False in a future version.\n",
            "  data.doc = data.doc.str.replace(\"\\s+\", \" \") # white space 삭제\n"
          ]
        }
      ],
      "source": [
        "all_data = pd.DataFrame()\n",
        "\n",
        "for name in name_list:\n",
        "    data = pd.read_csv(f\"{name}.csv\", encoding='utf-8-sig')\n",
        "    # 전처리\n",
        "    data.drop_duplicates(['text'],ignore_index=True, inplace=True) # 중복 제거\n",
        "    data.columns = ['date', 'star','doc']\n",
        "    data.doc = data.doc.str.replace(\"[^가-힣 ]\",\" \") # 한글만 남기고 특수문자, 숫자, 영어 삭제\n",
        "    data.doc = data.doc.str.replace(\"\\s+\", \" \") # white space 삭제\n",
        "    data.doc = data.doc.str.replace(\"럽고목\",\"럽고 목\")\n",
        "    data.doc = data.doc.str.replace(\"부 드럽\",\"부드럽\")\n",
        "    data.dropna(inplace=True)\n",
        "    data.reset_index(drop=True, inplace=True)\n",
        "    # globals()[\"감홍로 40도\"] 등으로 데이터 프레임 저장됨\n",
        "    globals()[f\"{name}\"] = data\n",
        "    all_data = pd.concat([all_data,data],axis=0)\n"
      ]
    },
    {
      "cell_type": "code",
      "execution_count": 19,
      "metadata": {
        "id": "xhB5pMQhUoTq",
        "outputId": "0cf14854-877c-4288-e1a2-7c01a22ac44f"
      },
      "outputs": [
        {
          "data": {
            "text/html": [
              "<div>\n",
              "<style scoped>\n",
              "    .dataframe tbody tr th:only-of-type {\n",
              "        vertical-align: middle;\n",
              "    }\n",
              "\n",
              "    .dataframe tbody tr th {\n",
              "        vertical-align: top;\n",
              "    }\n",
              "\n",
              "    .dataframe thead th {\n",
              "        text-align: right;\n",
              "    }\n",
              "</style>\n",
              "<table border=\"1\" class=\"dataframe\">\n",
              "  <thead>\n",
              "    <tr style=\"text-align: right;\">\n",
              "      <th></th>\n",
              "      <th>date</th>\n",
              "      <th>star</th>\n",
              "      <th>doc</th>\n",
              "    </tr>\n",
              "  </thead>\n",
              "  <tbody>\n",
              "    <tr>\n",
              "      <th>0</th>\n",
              "      <td>2022-11-22</td>\n",
              "      <td>5</td>\n",
              "      <td>표문 막걸리는 제가 제일 좋아하는 막걸리예요표문막걸리 런칭 첫 라이브 에서부터 편의...</td>\n",
              "    </tr>\n",
              "    <tr>\n",
              "      <th>1</th>\n",
              "      <td>2022-11-22</td>\n",
              "      <td>5</td>\n",
              "      <td>와라이브 이벤트에 후디 당첨되었어요와 진짜 당첨될줄 몰랐는데 너무 기분이 좋네요후디...</td>\n",
              "    </tr>\n",
              "    <tr>\n",
              "      <th>2</th>\n",
              "      <td>2022-11-26</td>\n",
              "      <td>5</td>\n",
              "      <td>한강주조를 처음 알게된건 인사동 어느 고기집이었는데 부모님과 함께 간단히 마시려고 ...</td>\n",
              "    </tr>\n",
              "    <tr>\n",
              "      <th>3</th>\n",
              "      <td>2022-11-28</td>\n",
              "      <td>5</td>\n",
              "      <td>축구경기 보며 마셨어요부드럽고 은은한 단맛이 너무 좋아요계속 생각나는 맛이네요 라이...</td>\n",
              "    </tr>\n",
              "    <tr>\n",
              "      <th>4</th>\n",
              "      <td>2022-11-24</td>\n",
              "      <td>5</td>\n",
              "      <td>가격이 많이 내렸네여곰표 막걸리 중독성있습니다쏘는맛없지만 부드럽고 맛있어요</td>\n",
              "    </tr>\n",
              "    <tr>\n",
              "      <th>...</th>\n",
              "      <td>...</td>\n",
              "      <td>...</td>\n",
              "      <td>...</td>\n",
              "    </tr>\n",
              "    <tr>\n",
              "      <th>5674</th>\n",
              "      <td>2020-04-03</td>\n",
              "      <td>5</td>\n",
              "      <td>다양한술을 집에서 편하게 주문가능하기에 자주 주문합니다이번에도 즐겁게 마시겠읍니다</td>\n",
              "    </tr>\n",
              "    <tr>\n",
              "      <th>5675</th>\n",
              "      <td>2020-04-03</td>\n",
              "      <td>5</td>\n",
              "      <td>빠른 배송 감사합니당</td>\n",
              "    </tr>\n",
              "    <tr>\n",
              "      <th>5676</th>\n",
              "      <td>2020-03-31</td>\n",
              "      <td>5</td>\n",
              "      <td>단맛은 있는데 꿀 단맛이어서 나쁘지 않아요 기분 나쁘지 않은 단맛이에요 인공감미료가...</td>\n",
              "    </tr>\n",
              "    <tr>\n",
              "      <th>5677</th>\n",
              "      <td>2020-03-26</td>\n",
              "      <td>5</td>\n",
              "      <td>맛이 달고 청량감이 좋아요</td>\n",
              "    </tr>\n",
              "    <tr>\n",
              "      <th>5678</th>\n",
              "      <td>2020-03-23</td>\n",
              "      <td>5</td>\n",
              "      <td>시중에서 흔히 볼 수 없었는데 적당한 당도가 좋았습니다</td>\n",
              "    </tr>\n",
              "  </tbody>\n",
              "</table>\n",
              "<p>56910 rows × 3 columns</p>\n",
              "</div>"
            ],
            "text/plain": [
              "            date  star                                                doc\n",
              "0     2022-11-22     5  표문 막걸리는 제가 제일 좋아하는 막걸리예요표문막걸리 런칭 첫 라이브 에서부터 편의...\n",
              "1     2022-11-22     5  와라이브 이벤트에 후디 당첨되었어요와 진짜 당첨될줄 몰랐는데 너무 기분이 좋네요후디...\n",
              "2     2022-11-26     5  한강주조를 처음 알게된건 인사동 어느 고기집이었는데 부모님과 함께 간단히 마시려고 ...\n",
              "3     2022-11-28     5  축구경기 보며 마셨어요부드럽고 은은한 단맛이 너무 좋아요계속 생각나는 맛이네요 라이...\n",
              "4     2022-11-24     5          가격이 많이 내렸네여곰표 막걸리 중독성있습니다쏘는맛없지만 부드럽고 맛있어요\n",
              "...          ...   ...                                                ...\n",
              "5674  2020-04-03     5     다양한술을 집에서 편하게 주문가능하기에 자주 주문합니다이번에도 즐겁게 마시겠읍니다 \n",
              "5675  2020-04-03     5                                        빠른 배송 감사합니당\n",
              "5676  2020-03-31     5  단맛은 있는데 꿀 단맛이어서 나쁘지 않아요 기분 나쁘지 않은 단맛이에요 인공감미료가...\n",
              "5677  2020-03-26     5                                     맛이 달고 청량감이 좋아요\n",
              "5678  2020-03-23     5                     시중에서 흔히 볼 수 없었는데 적당한 당도가 좋았습니다\n",
              "\n",
              "[56910 rows x 3 columns]"
            ]
          },
          "execution_count": 19,
          "metadata": {},
          "output_type": "execute_result"
        }
      ],
      "source": [
        "all_data"
      ]
    },
    {
      "cell_type": "code",
      "execution_count": 20,
      "metadata": {
        "id": "F-7VOYtfUoTq"
      },
      "outputs": [
        {
          "name": "stderr",
          "output_type": "stream",
          "text": [
            "c:\\Users\\user\\AppData\\Local\\Programs\\Python\\Python38\\lib\\site-packages\\sklearn\\feature_extraction\\text.py:524: UserWarning: The parameter 'token_pattern' will not be used since 'tokenizer' is not None'\n",
            "  warnings.warn(\n"
          ]
        }
      ],
      "source": [
        "from sklearn.feature_extraction.text import TfidfVectorizer\n",
        "\n",
        "tfidf = TfidfVectorizer(tokenizer=okt_pos_tagging)\n",
        "tfidf_fit = tfidf.fit(all_data.doc)\n"
      ]
    },
    {
      "cell_type": "code",
      "execution_count": 21,
      "metadata": {
        "id": "U2zoQPxSUoTr"
      },
      "outputs": [
        {
          "name": "stderr",
          "output_type": "stream",
          "text": [
            "c:\\Users\\user\\AppData\\Local\\Programs\\Python\\Python38\\lib\\site-packages\\sklearn\\utils\\deprecation.py:87: FutureWarning: Function get_feature_names is deprecated; get_feature_names is deprecated in 1.0 and will be removed in 1.2. Please use get_feature_names_out instead.\n",
            "  warnings.warn(msg, category=FutureWarning)\n"
          ]
        }
      ],
      "source": [
        "# 특징을 추출할 문서의 tf-idf를 구함\n",
        "a = \"술 리뷰(복순도가)\"\n",
        "bow_rep_tfidf = tfidf_fit.transform(globals()[a].doc)\n",
        "word_count = pd.DataFrame({\n",
        "    '단어': tfidf.get_feature_names(),\n",
        "    'tf-idf': bow_rep_tfidf.sum(axis=0).flat,\n",
        "    'idf': tfidf.idf_\n",
        "})\n"
      ]
    },
    {
      "cell_type": "code",
      "execution_count": 22,
      "metadata": {
        "id": "oBI8WZzEUoTr",
        "outputId": "40510cd7-32d1-40b5-fdfa-a0a455bfb350"
      },
      "outputs": [
        {
          "name": "stderr",
          "output_type": "stream",
          "text": [
            "C:\\Users\\user\\AppData\\Local\\Temp\\ipykernel_16296\\3357611957.py:5: UserWarning: Boolean Series key will be reindexed to match DataFrame index.\n",
            "  word_count.sort_values('tf-idf',ascending=False).head(50)[word_count['idf']>4.9][word_count['tf-idf'] * (len(all_data)/len(globals()[a]))>420]\n"
          ]
        },
        {
          "data": {
            "text/html": [
              "<div>\n",
              "<style scoped>\n",
              "    .dataframe tbody tr th:only-of-type {\n",
              "        vertical-align: middle;\n",
              "    }\n",
              "\n",
              "    .dataframe tbody tr th {\n",
              "        vertical-align: top;\n",
              "    }\n",
              "\n",
              "    .dataframe thead th {\n",
              "        text-align: right;\n",
              "    }\n",
              "</style>\n",
              "<table border=\"1\" class=\"dataframe\">\n",
              "  <thead>\n",
              "    <tr style=\"text-align: right;\">\n",
              "      <th></th>\n",
              "      <th>단어</th>\n",
              "      <th>tf-idf</th>\n",
              "      <th>idf</th>\n",
              "    </tr>\n",
              "  </thead>\n",
              "  <tbody>\n",
              "    <tr>\n",
              "      <th>5489</th>\n",
              "      <td>샴페인</td>\n",
              "      <td>223.865030</td>\n",
              "      <td>5.501938</td>\n",
              "    </tr>\n",
              "    <tr>\n",
              "      <th>4793</th>\n",
              "      <td>부모님</td>\n",
              "      <td>213.755274</td>\n",
              "      <td>5.122699</td>\n",
              "    </tr>\n",
              "    <tr>\n",
              "      <th>3375</th>\n",
              "      <td>많다</td>\n",
              "      <td>206.915492</td>\n",
              "      <td>4.947088</td>\n",
              "    </tr>\n",
              "    <tr>\n",
              "      <th>268</th>\n",
              "      <td>강하다</td>\n",
              "      <td>197.670808</td>\n",
              "      <td>5.159147</td>\n",
              "    </tr>\n",
              "    <tr>\n",
              "      <th>114</th>\n",
              "      <td>가족</td>\n",
              "      <td>173.578981</td>\n",
              "      <td>5.283560</td>\n",
              "    </tr>\n",
              "    <tr>\n",
              "      <th>9885</th>\n",
              "      <td>추천</td>\n",
              "      <td>167.900577</td>\n",
              "      <td>4.978514</td>\n",
              "    </tr>\n",
              "    <tr>\n",
              "      <th>9309</th>\n",
              "      <td>지인</td>\n",
              "      <td>166.742207</td>\n",
              "      <td>5.068860</td>\n",
              "    </tr>\n",
              "  </tbody>\n",
              "</table>\n",
              "</div>"
            ],
            "text/plain": [
              "       단어      tf-idf       idf\n",
              "5489  샴페인  223.865030  5.501938\n",
              "4793  부모님  213.755274  5.122699\n",
              "3375   많다  206.915492  4.947088\n",
              "268   강하다  197.670808  5.159147\n",
              "114    가족  173.578981  5.283560\n",
              "9885   추천  167.900577  4.978514\n",
              "9309   지인  166.742207  5.068860"
            ]
          },
          "execution_count": 22,
          "metadata": {},
          "output_type": "execute_result"
        }
      ],
      "source": [
        "# idf 가 높을수록 잘 안나오는 단어\n",
        "# tf-idf 가 높을수록 중요한 단어\n",
        "# 두값을 적절히 조정해서 특징 추출\n",
        "\n",
        "word_count.sort_values('tf-idf',ascending=False).head(50)[word_count['idf']>4.9][word_count['tf-idf'] * (len(all_data)/len(globals()[a]))>420]"
      ]
    },
    {
      "cell_type": "code",
      "execution_count": null,
      "metadata": {
        "id": "4vCErFGFUoTr"
      },
      "outputs": [],
      "source": []
    }
  ],
  "metadata": {
    "colab": {
      "provenance": []
    },
    "kernelspec": {
      "display_name": "Python 3.8.9 64-bit",
      "language": "python",
      "name": "python3"
    },
    "language_info": {
      "codemirror_mode": {
        "name": "ipython",
        "version": 3
      },
      "file_extension": ".py",
      "mimetype": "text/x-python",
      "name": "python",
      "nbconvert_exporter": "python",
      "pygments_lexer": "ipython3",
      "version": "3.8.9"
    },
    "orig_nbformat": 4,
    "vscode": {
      "interpreter": {
        "hash": "6a926afa313b26ae1264fdcf81c726a97e69f6ba2ba780f6aa901948710f8d6e"
      }
    }
  },
  "nbformat": 4,
  "nbformat_minor": 0
}
