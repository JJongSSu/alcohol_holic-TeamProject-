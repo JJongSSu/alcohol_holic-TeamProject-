{
  "cells": [
    {
      "cell_type": "code",
      "execution_count": 504,
      "metadata": {
        "id": "OZ_13Uv94mjU"
      },
      "outputs": [],
      "source": [
        "import pandas as pd\n",
        "import numpy as np\n",
        "from modules import *\n",
        "from nltk.corpus import stopwords\n",
        "from nltk.stem.porter import *\n",
        "from nltk import word_tokenize\n",
        "from konlpy.tag import Okt\n",
        "from nltk.util import everygrams"
      ]
    },
    {
      "cell_type": "code",
      "execution_count": 505,
      "metadata": {
        "id": "nFTBbcRb4mjX"
      },
      "outputs": [],
      "source": [
        "#원하는 태그 추출 & 불용어 제거\n",
        "okt = Okt()\n",
        "\n",
        "#불용어\n",
        "stopwords = pd.read_csv('ko-stopwords.csv') #한국어불용어사전 불러오기\n",
        "stopwords=list(stopwords['stopwords']) \n",
        "stopwords.extend(['에서','고','이다','는','한','씨', \"것\",\"거\",\"게\",\"데\",\"이다\",\"건\",\"고\",\"되다\",\"되어다\",\"걸\",\"기\",\n",
        "                  \"시\",\"네\",\"듯\",\"랍니\",\"중이\",\"얘\",\"스\",\"도도\", \"나\",\"수\",\"개\",\"내\",\"기\",\"제\",\"저\",\"인\",\"있다\",\"이렇다\",\n",
        "                  \"그렇다\",\"번\",\"위\",\"팅\",\"분\",\"인\",\"링\",\"란\",\"포\",\"두\", \"진짜\", \"하다\" ,\"이다\" ,\"가다\", \"이제\" ,\"들다\",\n",
        "                 '에서','고','이다','젛','뇨','껀데','뭘'\n",
        "                 ,'최고','느리다','마을','최고','항상','포장','재다','말다','목','넘김','만족하다','정말','역시','아주','감사하다','오다','자주','요','늘','넘다','않다','더','병','다','숙성','나다','술','드리다','마트','꼼꼼하다','잇다'\n",
        "                 ,'복','순도','용','비싸다','가격','많다','강하다','보내다','추천','보고','쏘다','느낌','사다','처음','많이','톡','생각','엄청','날','아니다'\n",
        "                 ,'믿다', '구입', '사먹다', '한번', '싶다', '콤', '완전', '제품', '재', '해주다', '말', '사람','특별하다','언제나','빨르다','두번째','전','계속','달'\n",
        "                 ,'추석', '인생', '최애', '명절', '해', '중', '생각나다', '시원하다', '다르다', '알다', '가족', '정도', '기대', '친구', '괜찮다', '부모님', '지인', '아직'\n",
        "                 ,'만족스럽다', '빼다', '상품', '굿', '못', '도', '기분', '다시', '주다', '즐기다', '맞다', '맛보다', '제일', '집', '입맛', '모르다', '먹기'\n",
        "                 ,'조심하다', '따다', '차다', '엄마', '예정', '만족', '감', '일반', '파다', '막', '근데', '별로', '적당하다','예전', '가끔', '유명하다', '만', '뚜껑', '매우', '기대하다', '의사', '한잔', '신선하다', '느끼다', '그냥', '아쉽다'\n",
        "                 ,'오픈', '쎄다', '여자', '호불호', '꼭', '벌써', '버리다', '이렇게', '돼다', '크다', '느껴지다','고급', '종종', '어울리다', '알', '남편', '빨리', '어른', '소문', '아버지', '마시기', '할인', '살다' \n",
        "                 ,'풍부하다', '모임', '해드리다', '빠지다', '나서다', '원래', '아빠', '걸리다', '안', '도착', '없이'\n",
        "                 ,'하루', '딱이다', '상태', '향', '후', '설', '주변', '사서', '때문', '반하다', '연말'\n",
        "                 ,'해봤다', '강추', '찾다', '자꾸', '살짝', '몇번', '빨', '요즘', '신세계', '사진', '생일'\n",
        "                 ,'빠르다', '자다', '구매', '마시다', '받다', '보다', '없다', '새다', '숙취', '아스파탐', '대포', '넘어가다','주가'\n",
        "                 ,'지나다', '무', '머리', '편하다', '아프다', '두다', '인터넷', '택배', '숙성하다', '일주일', '봄', '배달', '만들다', '애용', '냉장고' \n",
        "                 ,'여름', '잔', '앞', '며칠', '팔다', '달라지다', '가장', '변하다', '번창', '안전하다', '젤', '배상면', '건강하다', '굿굿'\n",
        "                 ,'따르다', '이용', '확실하다', '날짜', '시중', '들어가다', '첨가', '유통', '아이스팩', '제조', '넣다', '생', '다양하다','종류','들어가다','전통주','마켓','술술','후기','사보다','부담','여러가지','리뷰','블루'\n",
        "                 ,'인기','궁금하다','대상','무난','취향','적다','단','평이','이용','터지다','맘'\n",
        "                 ]\n",
        "                 +'회랑 회 따뜻하다 나쁘다 튼튼하다 끄다 끝 장인어른 일품 파손 싸다 술맛 비다 착하다 명인 증류 안동소주 안동 뒤끝 박다 신랑 비다 뒤끝 품질 짜다 용이 외국인 지고 지다 높다 어르신 신분 명인 보이다 준비 쇼핑 밤 서울 실향 스컬 낮다 가볍다 섞다 귀엽다 명랑 버전 꼼꼼 볼 대중 패키지 높다 하이 널 타 써다 집들이 실향 원주 긋다 술맛 술집 패키지 결의 증류주 섞다 타 이름 인공 약 높다 감기 대중 인위 짜다 막걸리 대접 볼 관심 타 남다 기회 하이 볼 섞다 향기 도주 집들이 독하다 이름 파티 어떻다 워낙 보기 마치다 가미 다기 수고 맛잇을걱닡아 모으다 햡 담날 대박 물맛 안되다 읺았어 짜다 빠져들다 소비 안나 이색 보리 빨랏 부족하다 화이팅 편 감홍 쇼핑 대다 도자기 생신 술맛 지다 높다 개봉 준비 깊다 볼 외국 아버님 조명 이벤트 용이 얼 눈 신분 보기 작다 내기 불빛 사은 비주 즐겁다 준비 생신 아깝다 주신 싸다 품 아버님 비쥬 조명도 반응 켜다 고맙다 동학 저렴하다 청 서비스 술잔 소주 강쇠주 오메 기술 조선 대비 요리 사용 데우다 조사 쓰다 감사 음식 알콜 경험 청주 강쇠 가성 전주 모주 뜨다 신기하다 화주 좋아하다 주문 예쁘다 이쁘다 얼음 산 토닉 워터 빨대 깨지다 빙 탄복 박스 약하다 국산 오프너 위트 소백산 제공 분위기 아내 크리스마스 마음 마루 베베 솔직하다 초보자 와이프 작성 위트 디자인 굳다 달다 시큼하다 달달 선물 깔끔하다 뒤 비비 이 있 하 것 들 그 되 수 이 보 않 없 나 사람 주 아니 등 같 우리 때 년 가 한 지 대하 오 말 일 그렇 위하 기한 달라 첫날 첨 주말 걱정 전이 이유 해보다 저번 보지 함 기대다 상 비 베스트 도수 음 존맛 개인'.split()\n",
        "                 ) #불용어 추가\n",
        "stopwords=set(stopwords) # 중복제거    \n",
        "\n",
        "# 형태소 분석 함수 만들기\n",
        "def okt_pos_tagging2(string):\n",
        "    pos_words = okt.pos(string, stem=True, norm=True) # 형태소 분석. 단어는 사전형으로 바꿔주기\n",
        "    words = [word for word, tag in pos_words if tag \n",
        "             in ['Noun', 'Adjective', 'Verb','Adverb'] if word not in stopwords ]\n",
        "\n",
        "    # n_gram 만들기\n",
        "    egram = list(everygrams(words, min_len=1, max_len=1))\n",
        "    egram_token = [' '.join(grams) for grams in egram]\n",
        "\n",
        "    return egram_token\n",
        "\n",
        "def okt_pos_tagging(string):\n",
        "    pos_words = okt.pos(string, stem=True, norm=True) # 형태소 분석. 단어는 사전형으로 바꿔주기\n",
        "    words = [word for word, tag in pos_words if tag \n",
        "             in ['Noun', 'Adjective', 'Verb','Adverb'] if word not in stopwords ]\n",
        "\n",
        "    return words\n"
      ]
    },
    {
      "cell_type": "code",
      "execution_count": null,
      "metadata": {
        "id": "TTgVNZWu4mjY"
      },
      "outputs": [],
      "source": [
        "# 불러올 csv 이름 리스트\n",
        "# 전체 리뷰를 불러온후 tf-idf 분석\n",
        "\n",
        "name_list =[\"금이산농원_복숭아와인\",\"덕유양조_산머루주\",\"배상면주가_빙탄복\",\"산내들_소백산스위트와인\",\"컨츄리와인_영동포도와인\"]\n",
        "\n",
        "all_data = pd.DataFrame()\n",
        "\n",
        "for name in name_list:\n",
        "    try: \n",
        "        data = pd.read_csv(f\"{name}.csv\", encoding='utf-8-sig')\n",
        "    except:\n",
        "        data = pd.read_csv(f\"{name}.csv\", encoding='cp949')\n",
        "    # 전처리\n",
        "    data.drop_duplicates(['text'],ignore_index=True, inplace=True) # 중복 제거\n",
        "    try:\n",
        "        data.columns = ['date', 'star','doc']\n",
        "    except:\n",
        "        data.columns = ['date', 'star','doc','name']\n",
        "    data.doc = data.doc.str.replace(\"[^가-힣 ]\",\" \") # 한글만 남기고 특수문자, 숫자, 영어 삭제\n",
        "    data.doc = data.doc.str.replace(\"\\s+\", \" \") # white space 삭제\n",
        "    data.doc = data.doc.str.replace(\"럽고목\",\"럽고 목\")\n",
        "    data.doc = data.doc.str.replace(\"부 드럽\",\"부드럽\")\n",
        "    data.doc = data.doc.str.replace(\"가성\", \"가성비\")\n",
        "    data.dropna(inplace=True)\n",
        "    data.reset_index(drop=True, inplace=True)\n",
        "    # globals()[\"감홍로 40도\"] 등으로 데이터 프레임 저장됨\n",
        "    globals()[f\"{name}\"] = data\n",
        "    all_data = pd.concat([all_data,data],axis=0)\n"
      ]
    },
    {
      "cell_type": "code",
      "execution_count": null,
      "metadata": {
        "id": "cs2wG5044mjY",
        "outputId": "93c98046-bf87-49b5-a70f-e639c0f3da8e"
      },
      "outputs": [],
      "source": [
        "all_data"
      ]
    },
    {
      "cell_type": "code",
      "execution_count": 508,
      "metadata": {
        "id": "vsDwX1xL4mjZ"
      },
      "outputs": [
        {
          "name": "stderr",
          "output_type": "stream",
          "text": [
            "c:\\Users\\user\\AppData\\Local\\Programs\\Python\\Python38\\lib\\site-packages\\sklearn\\feature_extraction\\text.py:524: UserWarning: The parameter 'token_pattern' will not be used since 'tokenizer' is not None'\n",
            "  warnings.warn(\n"
          ]
        }
      ],
      "source": [
        "from sklearn.feature_extraction.text import TfidfVectorizer\n",
        "\n",
        "tfidf = TfidfVectorizer(tokenizer=okt_pos_tagging)\n",
        "tfidf_fit = tfidf.fit(all_data.doc)\n"
      ]
    },
    {
      "cell_type": "code",
      "execution_count": 509,
      "metadata": {},
      "outputs": [
        {
          "name": "stderr",
          "output_type": "stream",
          "text": [
            "c:\\Users\\user\\AppData\\Local\\Programs\\Python\\Python38\\lib\\site-packages\\sklearn\\utils\\deprecation.py:87: FutureWarning: Function get_feature_names is deprecated; get_feature_names is deprecated in 1.0 and will be removed in 1.2. Please use get_feature_names_out instead.\n",
            "  warnings.warn(msg, category=FutureWarning)\n"
          ]
        }
      ],
      "source": [
        "# 특징을 추출할 문서의 tf-idf를 구함\n",
        "\n",
        "a = \"금이산농원_복숭아와인\"\n",
        "bow_rep_tfidf = tfidf_fit.transform(globals()[a].doc)\n",
        "word_count = pd.DataFrame({\n",
        "    '단어': tfidf.get_feature_names(),\n",
        "    'tf-idf': bow_rep_tfidf.sum(axis=0).flat,\n",
        "    'idf': tfidf.idf_\n",
        "})"
      ]
    },
    {
      "cell_type": "code",
      "execution_count": null,
      "metadata": {},
      "outputs": [],
      "source": [
        "# idf 가 높을수록 잘 안나오는 단어\n",
        "# tf-idf 가 높을수록 중요한 단어\n",
        "# 두값을 적절히 조정해서 특징 추출\n",
        "\n",
        "word_count.sort_values('tf-idf',ascending=False).head(50)[word_count['idf']>4.5][word_count['tf-idf'] * (len(all_data)/len(globals()[a]))>200]"
      ]
    },
    {
      "cell_type": "code",
      "execution_count": null,
      "metadata": {},
      "outputs": [],
      "source": [
        "a4 = [\"과실주_금이산농원_복숭아와인\",\"과실주_덕유양조_산머루주\",\"과실주_배상면주가_빙탄복\",\"과실주_산내들_소백산스위트와인\",\"과실주_컨츄리와인_영동포도와인\"]\n",
        "Tags4 = {\"nongwon\": [],\"duckyang\": [],\"baesang\": [],\"sobak\": [],\"yungdong\": []}\n",
        "keys4 = [\"nongwon\",\"duckyang\",\"baesang\",\"sobak\",\"yungdong\"]\n",
        "for i in range(len(a4)):\n",
        "    bow_rep_tfidf = tfidf_fit.transform(globals()[a4[i]].doc)\n",
        "    word_count = pd.DataFrame({\n",
        "        '단어': tfidf.get_feature_names(),\n",
        "        'tf-idf': bow_rep_tfidf.sum(axis=0).flat,\n",
        "        'idf': tfidf.idf_\n",
        "    })\n",
        "    \n",
        "    df4 = word_count.sort_values('tf-idf',ascending=False).head(50)[word_count['idf']>4.5][word_count['tf-idf'] * (len(all_data)/len(globals()[a4[i]]))>110]\n",
        "    df4.to_csv(f'과실주_특징{i}.csv',encoding='utf-8-sig')\n",
        "\n",
        "    # for i in range(len(Tags)):\n",
        "    for j in df4['단어']:\n",
        "        Tags4[keys4[i]].append(j)\n",
        "Tags4['nongwon']"
      ]
    },
    {
      "cell_type": "code",
      "execution_count": null,
      "metadata": {},
      "outputs": [],
      "source": [
        "gwa_df0 = pd.read_csv('과실주_특징0.csv')\n",
        "del gwa_df0['Unnamed: 0']\n",
        "gwa_df1 = pd.read_csv('과실주_특징1.csv')\n",
        "del gwa_df1['Unnamed: 0']\n",
        "gwa_df2 = pd.read_csv('과실주_특징2.csv')\n",
        "del gwa_df2['Unnamed: 0']\n",
        "gwa_df3 = pd.read_csv('과실주_특징3.csv')\n",
        "del gwa_df3['Unnamed: 0']\n",
        "gwa_df4 = pd.read_csv('과실주_특징4.csv')\n",
        "del gwa_df4['Unnamed: 0']\n",
        "gwa_df0"
      ]
    },
    {
      "cell_type": "code",
      "execution_count": 520,
      "metadata": {},
      "outputs": [],
      "source": [
        "def getHashTagString(list_of_tags):\n",
        "\thashTagString = \"\"\n",
        "\n",
        "\tfor tag in list_of_tags:\n",
        "\t\thashTagString += \" #\" + tag\n",
        "\n",
        "\treturn hashTagString"
      ]
    },
    {
      "cell_type": "code",
      "execution_count": 523,
      "metadata": {},
      "outputs": [
        {
          "name": "stdout",
          "output_type": "stream",
          "text": [
            "#복숭아 #와인 #달콤하다\n",
            "#머루 #와인 #진하다\n",
            "#스파클링 #복분자 #와인\n",
            "#와인 #달콤하다 #포도\n",
            "#와인 #달콤하다 #포도\n"
          ]
        }
      ],
      "source": [
        "print(getHashTagString(Tags4['nongwon'][0:3])[:].strip())\n",
        "print(getHashTagString(Tags4['duckyang'][0:3])[:].strip())\n",
        "print(getHashTagString(Tags4['baesang'][0:3])[:].strip())\n",
        "print(getHashTagString(Tags4['sobak'][0:3])[:].strip())\n",
        "print(getHashTagString(Tags4['yungdong'][0:3])[:].strip())"
      ]
    },
    {
      "cell_type": "code",
      "execution_count": null,
      "metadata": {},
      "outputs": [],
      "source": []
    }
  ],
  "metadata": {
    "colab": {
      "provenance": []
    },
    "kernelspec": {
      "display_name": "Python 3.8.9 64-bit",
      "language": "python",
      "name": "python3"
    },
    "language_info": {
      "codemirror_mode": {
        "name": "ipython",
        "version": 3
      },
      "file_extension": ".py",
      "mimetype": "text/x-python",
      "name": "python",
      "nbconvert_exporter": "python",
      "pygments_lexer": "ipython3",
      "version": "3.8.9"
    },
    "orig_nbformat": 4,
    "vscode": {
      "interpreter": {
        "hash": "6a926afa313b26ae1264fdcf81c726a97e69f6ba2ba780f6aa901948710f8d6e"
      }
    }
  },
  "nbformat": 4,
  "nbformat_minor": 0
}
